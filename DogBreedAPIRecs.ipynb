{
 "cells": [
  {
   "cell_type": "code",
   "execution_count": 9,
   "metadata": {
    "id": "KtK2do1VaY0B"
   },
   "outputs": [
    {
     "data": {
      "text/plain": [
       "True"
      ]
     },
     "execution_count": 9,
     "metadata": {},
     "output_type": "execute_result"
    }
   ],
   "source": [
    "import requests\n",
    "import os\n",
    "from dotenv import load_dotenv\n",
    "\n",
    "dotenv_file = \"API_Key.env\"\n",
    "load_dotenv(dotenv_file)"
   ]
  },
  {
   "cell_type": "code",
   "execution_count": 10,
   "metadata": {
    "id": "yGl37M5cadXn"
   },
   "outputs": [],
   "source": [
    "def get_dog_recommendation(size, energy, trainability):\n",
    "    url = \"https://api.api-ninjas.com/v1/dogs\"\n",
    "    api_key = os.getenv(\"API_KEY\")\n",
    "    headers = {'X-Api-Key': api_key}\n",
    "\n",
    "    # get API parameters and use user input\n",
    "    params = {\n",
    "        'size': size,\n",
    "        'energy': energy,\n",
    "        'trainability': trainability,\n",
    "    }\n",
    "\n",
    "    # get\n",
    "    response = requests.get(url, headers=headers, params=params)\n",
    "\n",
    "    # successful response will allow parsing\n",
    "    if response.status_code == requests.codes.ok:\n",
    "        data = response.json()\n",
    "        if data:\n",
    "            try:\n",
    "                # get the closest dog related to the user inputs\n",
    "                closest_dog = min(data, key=lambda x: sum(abs(int(x.get(key, 0)) - int(params[key])) for key in params if key != 'size'))\n",
    "                return closest_dog\n",
    "            except ValueError as e:\n",
    "                print(f\"Error: {e}\")\n",
    "                return None\n",
    "        else:\n",
    "            return None\n",
    "    else:\n",
    "        # if get request was unresponsive\n",
    "        print(f\"Failed to fetch data. Status code: {response.status_code}\")\n",
    "        return None"
   ]
  },
  {
   "cell_type": "code",
   "execution_count": 11,
   "metadata": {
    "id": "qPz92YqNajS4"
   },
   "outputs": [],
   "source": [
    "def display_dog_recommendation(recommended_dog):\n",
    "    if recommended_dog:\n",
    "        print(\"1: Not good | 2: Fair | 3: Average | 4: Good | 5: Very good\")\n",
    "        print(\"\\nRecommended Dog Breed:\")\n",
    "        print(f\"Name: {recommended_dog['name']}\")\n",
    "        print(f\"Image link: {recommended_dog.get('image_link', 'N/A')}\")\n",
    "        print(f\"Good with children: {recommended_dog.get('good_with_children', 'N/A')}\")\n",
    "        print(f\"Good with other dogs: {recommended_dog.get('good_with_other_dogs', 'N/A')}\")\n",
    "        print(f\"Shedding: {recommended_dog.get('shedding', 'N/A')}\")\n",
    "        print(f\"Grooming: {recommended_dog.get('grooming', 'N/A')}\")\n",
    "        print(f\"Drooling: {recommended_dog.get('drooling', 'N/A')}\")\n",
    "        print(f\"Coat length: {recommended_dog.get('coat_length', 'N/A')}\")\n",
    "        print(f\"Good with strangers: {recommended_dog.get('good_with_strangers', 'N/A')}\")\n",
    "        print(f\"Playfulness: {recommended_dog.get('playfulness', 'N/A')}\")\n",
    "        print(f\"Protectiveness: {recommended_dog.get('protectiveness', 'N/A')}\")\n",
    "        print(f\"Trainability: {recommended_dog.get('trainability', 'N/A')}\")\n",
    "        print(f\"Energy: {recommended_dog.get('energy', 'N/A')}\")\n",
    "        print(f\"Barking: {recommended_dog.get('barking', 'N/A')}\")\n",
    "        print(f\"Min life expectancy: {recommended_dog.get('min_life_expectancy', 'N/A')} years\")\n",
    "        print(f\"Max life expectancy: {recommended_dog.get('max_life_expectancy', 'N/A')} years\")\n",
    "        print(f\"Min height male: {recommended_dog.get('min_height_male', 'N/A')} inches\")\n",
    "        print(f\"Max height male: {recommended_dog.get('max_height_male', 'N/A')} inches\")\n",
    "        print(f\"Min height female: {recommended_dog.get('min_height_female', 'N/A')} inches\")\n",
    "        print(f\"Max height female: {recommended_dog.get('max_height_female', 'N/A')} inches\")\n",
    "        print(f\"Min weight male: {recommended_dog.get('min_weight_male', 'N/A')} pounds\")\n",
    "        print(f\"Max weight male: {recommended_dog.get('max_weight_male', 'N/A')} pounds\")\n",
    "        print(f\"Min weight female: {recommended_dog.get('min_weight_female', 'N/A')} pounds\")\n",
    "        print(f\"Max weight female: {recommended_dog.get('max_weight_female', 'N/A')} pounds\")\n",
    "    else:\n",
    "        print(\"No recommendation available based on the given preferences.\")"
   ]
  },
  {
   "cell_type": "code",
   "execution_count": 14,
   "metadata": {
    "colab": {
     "base_uri": "https://localhost:8080/"
    },
    "id": "8nbuXoGfk-d-",
    "outputId": "e26e73f6-0cd9-4fa4-ebe2-f3d15d49d3e0"
   },
   "outputs": [
    {
     "name": "stdout",
     "output_type": "stream",
     "text": [
      "Enter preferred dog size (small, medium, large): large\n",
      "Enter preferred energy level (1 to 5, where 1 is low and 5 is high): 3\n",
      "Enter preferred trainability level (1 to 5, where 1 is difficult and 5 is easy): 3\n",
      "\n",
      "Dog Breed Recommendation Tool\n",
      "1: Not good | 2: Fair | 3: Average | 4: Good | 5: Very good\n",
      "\n",
      "Recommended Dog Breed:\n",
      "Name: Affenpinscher\n",
      "Image link: https://api-ninjas.com/images/dogs/affenpinscher.jpg\n",
      "Good with children: 3\n",
      "Good with other dogs: 3\n",
      "Shedding: 3\n",
      "Grooming: 3\n",
      "Drooling: 1\n",
      "Coat length: 2\n",
      "Good with strangers: 5\n",
      "Playfulness: 3\n",
      "Protectiveness: 3\n",
      "Trainability: 3\n",
      "Energy: 3\n",
      "Barking: 3\n",
      "Min life expectancy: 12.0 years\n",
      "Max life expectancy: 15.0 years\n",
      "Min height male: 9.0 inches\n",
      "Max height male: 11.5 inches\n",
      "Min height female: 9.0 inches\n",
      "Max height female: 11.5 inches\n",
      "Min weight male: 7.0 pounds\n",
      "Max weight male: 10.0 pounds\n",
      "Min weight female: 7.0 pounds\n",
      "Max weight female: 10.0 pounds\n"
     ]
    }
   ],
   "source": [
    "if __name__ == \"__main__\":\n",
    "    # user inputs for dog breeds\n",
    "    size = input(\"Enter preferred dog size (small, medium, large): \").lower()\n",
    "    energy = input(\"Enter preferred energy level (1 to 5, where 1 is low and 5 is high): \")\n",
    "    trainability = input(\"Enter preferred trainability level (1 to 5, where 1 is difficult and 5 is easy): \")\n",
    "\n",
    "    recommended_dog = get_dog_recommendation(size, energy, trainability)\n",
    "\n",
    "    print(\"\\nDog Breed Recommendation Tool\")\n",
    "    display_dog_recommendation(recommended_dog)"
   ]
  },
  {
   "cell_type": "code",
   "execution_count": null,
   "metadata": {},
   "outputs": [],
   "source": []
  }
 ],
 "metadata": {
  "colab": {
   "provenance": []
  },
  "kernelspec": {
   "display_name": "Python 3 (ipykernel)",
   "language": "python",
   "name": "python3"
  },
  "language_info": {
   "codemirror_mode": {
    "name": "ipython",
    "version": 3
   },
   "file_extension": ".py",
   "mimetype": "text/x-python",
   "name": "python",
   "nbconvert_exporter": "python",
   "pygments_lexer": "ipython3",
   "version": "3.10.2"
  }
 },
 "nbformat": 4,
 "nbformat_minor": 1
}
